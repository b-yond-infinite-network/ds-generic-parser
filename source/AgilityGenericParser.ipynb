{
 "cells": [
  {
   "cell_type": "code",
   "execution_count": 3,
   "metadata": {
    "pycharm": {
     "is_executing": true
    }
   },
   "outputs": [],
   "source": [
    "import os\n",
    "import multiprocessing\n",
    "from multiprocessing import Pool\n",
    "from pathlib import Path\n",
    "import uuid\n",
    "\n",
    "import pandas as pd\n",
    "from itertools import repeat\n",
    "from PcapGenericParserHelper import convert_pcap, read_parse_generic"
   ]
  },
  {
   "cell_type": "code",
   "execution_count": 4,
   "metadata": {},
   "outputs": [],
   "source": [
    "input_folder = '../data'\n",
    "call_type_file = os.path.join(input_folder, \"type.txt\")\n",
    "output_folder = f'../data/output/{uuid.uuid4()}'\n",
    "output_folder_path = Path(output_folder)\n",
    "output_csv_filename = 'generic_parser_output.csv'\n",
    "pcap_folder_path = Path(input_folder)\n",
    "os.makedirs(output_folder, exist_ok=True)"
   ]
  },
  {
   "cell_type": "code",
   "execution_count": 5,
   "metadata": {},
   "outputs": [],
   "source": [
    "num_processors = multiprocessing.cpu_count()"
   ]
  },
  {
   "cell_type": "code",
   "execution_count": 6,
   "metadata": {},
   "outputs": [],
   "source": [
    "# Fetch ALL files that end in PCAP\n",
    "pcap_file_names = [ file_name for file_name in os.listdir(input_folder) if file_name.endswith(\"pcap\") ]"
   ]
  },
  {
   "cell_type": "code",
   "execution_count": 7,
   "metadata": {},
   "outputs": [
    {
     "data": {
      "text/plain": [
       "4"
      ]
     },
     "execution_count": 7,
     "metadata": {},
     "output_type": "execute_result"
    }
   ],
   "source": [
    "len(pcap_file_names)"
   ]
  },
  {
   "cell_type": "code",
   "execution_count": 8,
   "metadata": {},
   "outputs": [],
   "source": [
    "# Create raw file names of pcap files without extension \".pcap\"\n",
    "files=[file_name.split('.pcap')[0] for file_name in pcap_file_names]"
   ]
  },
  {
   "cell_type": "code",
   "execution_count": 9,
   "metadata": {},
   "outputs": [],
   "source": [
    "num_processors = multiprocessing.cpu_count()\n",
    "p = Pool(processes = num_processors)"
   ]
  },
  {
   "cell_type": "code",
   "execution_count": 10,
   "metadata": {
    "pycharm": {
     "name": "#%%\n"
    }
   },
   "outputs": [],
   "source": [
    "# Convert PCAP to JSON\n",
    "pcaps_list = p.starmap(convert_pcap, zip(repeat(pcap_folder_path), repeat(output_folder_path), files))"
   ]
  },
  {
   "cell_type": "code",
   "execution_count": 11,
   "metadata": {},
   "outputs": [
    {
     "data": {
      "text/plain": [
       "4"
      ]
     },
     "execution_count": 11,
     "metadata": {},
     "output_type": "execute_result"
    }
   ],
   "source": [
    "# Fetch ALL files that end in json\n",
    "json_files = [ file_name for file_name in os.listdir(output_folder_path) if file_name.endswith(\"json\") ]\n",
    "len(json_files)"
   ]
  },
  {
   "cell_type": "code",
   "execution_count": 12,
   "metadata": {
    "pycharm": {
     "is_executing": true
    }
   },
   "outputs": [],
   "source": [
    "# Read and parse json packets, generates a nest List\n",
    "call_type = open(call_type_file, \"r\").read()\n",
    "parse_output = p.starmap(read_parse_generic, zip(repeat(output_folder_path), json_files, repeat(call_type)))"
   ]
  },
  {
   "cell_type": "code",
   "execution_count": 13,
   "metadata": {},
   "outputs": [],
   "source": [
    "# Get output from original parser and concatenate both\n",
    "df_out_final = pd.DataFrame(data=parse_output)\n",
    "df_out_final.fillna(\"*\", inplace=True)\n",
    "df_out_final = df_out_final.set_index(df_out_final.columns[0])\n",
    "df_out_final.index.names = ['pcap']"
   ]
  },
  {
   "cell_type": "code",
   "execution_count": 14,
   "metadata": {},
   "outputs": [
    {
     "data": {
      "text/html": [
       "<div>\n",
       "<style scoped>\n",
       "    .dataframe tbody tr th:only-of-type {\n",
       "        vertical-align: middle;\n",
       "    }\n",
       "\n",
       "    .dataframe tbody tr th {\n",
       "        vertical-align: top;\n",
       "    }\n",
       "\n",
       "    .dataframe thead th {\n",
       "        text-align: right;\n",
       "    }\n",
       "</style>\n",
       "<table border=\"1\" class=\"dataframe\">\n",
       "  <thead>\n",
       "    <tr style=\"text-align: right;\">\n",
       "      <th></th>\n",
       "      <th>1</th>\n",
       "      <th>2</th>\n",
       "      <th>3</th>\n",
       "      <th>4</th>\n",
       "      <th>5</th>\n",
       "      <th>6</th>\n",
       "      <th>7</th>\n",
       "      <th>8</th>\n",
       "      <th>9</th>\n",
       "      <th>10</th>\n",
       "      <th>...</th>\n",
       "      <th>100</th>\n",
       "      <th>101</th>\n",
       "      <th>102</th>\n",
       "      <th>103</th>\n",
       "      <th>104</th>\n",
       "      <th>105</th>\n",
       "      <th>106</th>\n",
       "      <th>107</th>\n",
       "      <th>108</th>\n",
       "      <th>109</th>\n",
       "    </tr>\n",
       "    <tr>\n",
       "      <th>pcap</th>\n",
       "      <th></th>\n",
       "      <th></th>\n",
       "      <th></th>\n",
       "      <th></th>\n",
       "      <th></th>\n",
       "      <th></th>\n",
       "      <th></th>\n",
       "      <th></th>\n",
       "      <th></th>\n",
       "      <th></th>\n",
       "      <th></th>\n",
       "      <th></th>\n",
       "      <th></th>\n",
       "      <th></th>\n",
       "      <th></th>\n",
       "      <th></th>\n",
       "      <th></th>\n",
       "      <th></th>\n",
       "      <th></th>\n",
       "      <th></th>\n",
       "      <th></th>\n",
       "    </tr>\n",
       "  </thead>\n",
       "  <tbody>\n",
       "    <tr>\n",
       "      <th>timothy.vogel@verizonwireless.com_Scheduled_PS911_v4_Eric_4TX_19-09-12_10_48_00_647_+16692481447_357330090901661_iPhone-XR_12.3_054741</th>\n",
       "      <td>UE-REGISTER-P-CSCF</td>\n",
       "      <td>P-CSCF-401-UE</td>\n",
       "      <td>UE-REGISTER-P-CSCF</td>\n",
       "      <td>P-CSCF-200-UE</td>\n",
       "      <td>-200-S-CSCF</td>\n",
       "      <td>P-CSCF-200-UE</td>\n",
       "      <td>UE-INVITE-P-CSCF</td>\n",
       "      <td>P-CSCF-100-UE</td>\n",
       "      <td>SR-Signaling-100-S-CSCF</td>\n",
       "      <td>SR-Signaling-404-S-CSCF</td>\n",
       "      <td>...</td>\n",
       "      <td>*</td>\n",
       "      <td>*</td>\n",
       "      <td>*</td>\n",
       "      <td>*</td>\n",
       "      <td>*</td>\n",
       "      <td>*</td>\n",
       "      <td>*</td>\n",
       "      <td>*</td>\n",
       "      <td>*</td>\n",
       "      <td>*</td>\n",
       "    </tr>\n",
       "    <tr>\n",
       "      <th>timothy.vogel@verizonwireless.com_Scheduled_PS911_v4_Eric_4TX_19-09-12_10_36_00_637_+17014801708_354386060552127_iPhone-6_Plus_11.4.1_053554</th>\n",
       "      <td>-200-</td>\n",
       "      <td>UE-INVITE-P-CSCF</td>\n",
       "      <td>P-CSCF-100-UE</td>\n",
       "      <td>SR-Signaling-100-S-CSCF</td>\n",
       "      <td>SR-Signaling-404-S-CSCF</td>\n",
       "      <td>S-CSCF-ACK-SR-Signaling</td>\n",
       "      <td>S-CSCF-INVITE-SR-Signaling</td>\n",
       "      <td>-INVITE-P-CSCF</td>\n",
       "      <td>SR-Signaling-100-S-CSCF</td>\n",
       "      <td>P-CSCF-100-</td>\n",
       "      <td>...</td>\n",
       "      <td>-ACK-P-CSCF</td>\n",
       "      <td>-200-</td>\n",
       "      <td>SR-Signaling-404-</td>\n",
       "      <td>-200-</td>\n",
       "      <td>S-CSCF-REGISTER-</td>\n",
       "      <td>-200-S-CSCF</td>\n",
       "      <td>-200-</td>\n",
       "      <td>S-CSCF-REGISTER-</td>\n",
       "      <td>-200-S-CSCF</td>\n",
       "      <td>-200-</td>\n",
       "    </tr>\n",
       "    <tr>\n",
       "      <th>timothy.vogel@verizonwireless.com_Scheduled_PS911_v4_Eric_4TX_19-09-12_10_06_00_612_+16692481447_357330090901661_iPhone-XR_12.3_050557</th>\n",
       "      <td>UE-INVITE-P-CSCF</td>\n",
       "      <td>P-CSCF-100-UE</td>\n",
       "      <td>SR-Signaling-100-S-CSCF</td>\n",
       "      <td>SR-Signaling-404-S-CSCF</td>\n",
       "      <td>S-CSCF-ACK-SR-Signaling</td>\n",
       "      <td>-INVITE-P-CSCF</td>\n",
       "      <td>S-CSCF-INVITE-SR-Signaling</td>\n",
       "      <td>P-CSCF-100-</td>\n",
       "      <td>SR-Signaling-100-S-CSCF</td>\n",
       "      <td>SR-Signaling-404-S-CSCF</td>\n",
       "      <td>...</td>\n",
       "      <td>-ACK-P-CSCF</td>\n",
       "      <td>-200-</td>\n",
       "      <td>-200-S-CSCF</td>\n",
       "      <td>SR-Signaling-404-</td>\n",
       "      <td>-200-</td>\n",
       "      <td>*</td>\n",
       "      <td>*</td>\n",
       "      <td>*</td>\n",
       "      <td>*</td>\n",
       "      <td>*</td>\n",
       "    </tr>\n",
       "    <tr>\n",
       "      <th>timothy.vogel@verizonwireless.com_Scheduled_PS911_v4_Eric_4TX_19-09-12_10_24_00_627_+17014801700_356165090145724_iPhone-XS_12.4_052415</th>\n",
       "      <td>-200-</td>\n",
       "      <td>-200-S-CSCF</td>\n",
       "      <td>-200-</td>\n",
       "      <td>SR-Signaling-404-</td>\n",
       "      <td>-200-</td>\n",
       "      <td>UE-INVITE-P-CSCF</td>\n",
       "      <td>P-CSCF-100-UE</td>\n",
       "      <td>SR-Signaling-100-S-CSCF</td>\n",
       "      <td>SR-Signaling-404-S-CSCF</td>\n",
       "      <td>S-CSCF-ACK-SR-Signaling</td>\n",
       "      <td>...</td>\n",
       "      <td>-200-</td>\n",
       "      <td>P-CSCF-404-</td>\n",
       "      <td>-ACK-P-CSCF</td>\n",
       "      <td>-200-</td>\n",
       "      <td>SR-Signaling-404-</td>\n",
       "      <td>-200-</td>\n",
       "      <td>-200-S-CSCF</td>\n",
       "      <td>-200-</td>\n",
       "      <td>*</td>\n",
       "      <td>*</td>\n",
       "    </tr>\n",
       "  </tbody>\n",
       "</table>\n",
       "<p>4 rows × 109 columns</p>\n",
       "</div>"
      ],
      "text/plain": [
       "                                                                   1    \\\n",
       "pcap                                                                     \n",
       "timothy.vogel@verizonwireless.com_Scheduled_PS9...  UE-REGISTER-P-CSCF   \n",
       "timothy.vogel@verizonwireless.com_Scheduled_PS9...               -200-   \n",
       "timothy.vogel@verizonwireless.com_Scheduled_PS9...    UE-INVITE-P-CSCF   \n",
       "timothy.vogel@verizonwireless.com_Scheduled_PS9...               -200-   \n",
       "\n",
       "                                                                 2    \\\n",
       "pcap                                                                   \n",
       "timothy.vogel@verizonwireless.com_Scheduled_PS9...     P-CSCF-401-UE   \n",
       "timothy.vogel@verizonwireless.com_Scheduled_PS9...  UE-INVITE-P-CSCF   \n",
       "timothy.vogel@verizonwireless.com_Scheduled_PS9...     P-CSCF-100-UE   \n",
       "timothy.vogel@verizonwireless.com_Scheduled_PS9...       -200-S-CSCF   \n",
       "\n",
       "                                                                        3    \\\n",
       "pcap                                                                          \n",
       "timothy.vogel@verizonwireless.com_Scheduled_PS9...       UE-REGISTER-P-CSCF   \n",
       "timothy.vogel@verizonwireless.com_Scheduled_PS9...            P-CSCF-100-UE   \n",
       "timothy.vogel@verizonwireless.com_Scheduled_PS9...  SR-Signaling-100-S-CSCF   \n",
       "timothy.vogel@verizonwireless.com_Scheduled_PS9...                    -200-   \n",
       "\n",
       "                                                                        4    \\\n",
       "pcap                                                                          \n",
       "timothy.vogel@verizonwireless.com_Scheduled_PS9...            P-CSCF-200-UE   \n",
       "timothy.vogel@verizonwireless.com_Scheduled_PS9...  SR-Signaling-100-S-CSCF   \n",
       "timothy.vogel@verizonwireless.com_Scheduled_PS9...  SR-Signaling-404-S-CSCF   \n",
       "timothy.vogel@verizonwireless.com_Scheduled_PS9...        SR-Signaling-404-   \n",
       "\n",
       "                                                                        5    \\\n",
       "pcap                                                                          \n",
       "timothy.vogel@verizonwireless.com_Scheduled_PS9...              -200-S-CSCF   \n",
       "timothy.vogel@verizonwireless.com_Scheduled_PS9...  SR-Signaling-404-S-CSCF   \n",
       "timothy.vogel@verizonwireless.com_Scheduled_PS9...  S-CSCF-ACK-SR-Signaling   \n",
       "timothy.vogel@verizonwireless.com_Scheduled_PS9...                    -200-   \n",
       "\n",
       "                                                                        6    \\\n",
       "pcap                                                                          \n",
       "timothy.vogel@verizonwireless.com_Scheduled_PS9...            P-CSCF-200-UE   \n",
       "timothy.vogel@verizonwireless.com_Scheduled_PS9...  S-CSCF-ACK-SR-Signaling   \n",
       "timothy.vogel@verizonwireless.com_Scheduled_PS9...           -INVITE-P-CSCF   \n",
       "timothy.vogel@verizonwireless.com_Scheduled_PS9...         UE-INVITE-P-CSCF   \n",
       "\n",
       "                                                                           7    \\\n",
       "pcap                                                                             \n",
       "timothy.vogel@verizonwireless.com_Scheduled_PS9...            UE-INVITE-P-CSCF   \n",
       "timothy.vogel@verizonwireless.com_Scheduled_PS9...  S-CSCF-INVITE-SR-Signaling   \n",
       "timothy.vogel@verizonwireless.com_Scheduled_PS9...  S-CSCF-INVITE-SR-Signaling   \n",
       "timothy.vogel@verizonwireless.com_Scheduled_PS9...               P-CSCF-100-UE   \n",
       "\n",
       "                                                                        8    \\\n",
       "pcap                                                                          \n",
       "timothy.vogel@verizonwireless.com_Scheduled_PS9...            P-CSCF-100-UE   \n",
       "timothy.vogel@verizonwireless.com_Scheduled_PS9...           -INVITE-P-CSCF   \n",
       "timothy.vogel@verizonwireless.com_Scheduled_PS9...              P-CSCF-100-   \n",
       "timothy.vogel@verizonwireless.com_Scheduled_PS9...  SR-Signaling-100-S-CSCF   \n",
       "\n",
       "                                                                        9    \\\n",
       "pcap                                                                          \n",
       "timothy.vogel@verizonwireless.com_Scheduled_PS9...  SR-Signaling-100-S-CSCF   \n",
       "timothy.vogel@verizonwireless.com_Scheduled_PS9...  SR-Signaling-100-S-CSCF   \n",
       "timothy.vogel@verizonwireless.com_Scheduled_PS9...  SR-Signaling-100-S-CSCF   \n",
       "timothy.vogel@verizonwireless.com_Scheduled_PS9...  SR-Signaling-404-S-CSCF   \n",
       "\n",
       "                                                                        10   \\\n",
       "pcap                                                                          \n",
       "timothy.vogel@verizonwireless.com_Scheduled_PS9...  SR-Signaling-404-S-CSCF   \n",
       "timothy.vogel@verizonwireless.com_Scheduled_PS9...              P-CSCF-100-   \n",
       "timothy.vogel@verizonwireless.com_Scheduled_PS9...  SR-Signaling-404-S-CSCF   \n",
       "timothy.vogel@verizonwireless.com_Scheduled_PS9...  S-CSCF-ACK-SR-Signaling   \n",
       "\n",
       "                                                    ...          100  \\\n",
       "pcap                                                ...                \n",
       "timothy.vogel@verizonwireless.com_Scheduled_PS9...  ...            *   \n",
       "timothy.vogel@verizonwireless.com_Scheduled_PS9...  ...  -ACK-P-CSCF   \n",
       "timothy.vogel@verizonwireless.com_Scheduled_PS9...  ...  -ACK-P-CSCF   \n",
       "timothy.vogel@verizonwireless.com_Scheduled_PS9...  ...        -200-   \n",
       "\n",
       "                                                            101  \\\n",
       "pcap                                                              \n",
       "timothy.vogel@verizonwireless.com_Scheduled_PS9...            *   \n",
       "timothy.vogel@verizonwireless.com_Scheduled_PS9...        -200-   \n",
       "timothy.vogel@verizonwireless.com_Scheduled_PS9...        -200-   \n",
       "timothy.vogel@verizonwireless.com_Scheduled_PS9...  P-CSCF-404-   \n",
       "\n",
       "                                                                  102  \\\n",
       "pcap                                                                    \n",
       "timothy.vogel@verizonwireless.com_Scheduled_PS9...                  *   \n",
       "timothy.vogel@verizonwireless.com_Scheduled_PS9...  SR-Signaling-404-   \n",
       "timothy.vogel@verizonwireless.com_Scheduled_PS9...        -200-S-CSCF   \n",
       "timothy.vogel@verizonwireless.com_Scheduled_PS9...        -ACK-P-CSCF   \n",
       "\n",
       "                                                                  103  \\\n",
       "pcap                                                                    \n",
       "timothy.vogel@verizonwireless.com_Scheduled_PS9...                  *   \n",
       "timothy.vogel@verizonwireless.com_Scheduled_PS9...              -200-   \n",
       "timothy.vogel@verizonwireless.com_Scheduled_PS9...  SR-Signaling-404-   \n",
       "timothy.vogel@verizonwireless.com_Scheduled_PS9...              -200-   \n",
       "\n",
       "                                                                  104  \\\n",
       "pcap                                                                    \n",
       "timothy.vogel@verizonwireless.com_Scheduled_PS9...                  *   \n",
       "timothy.vogel@verizonwireless.com_Scheduled_PS9...   S-CSCF-REGISTER-   \n",
       "timothy.vogel@verizonwireless.com_Scheduled_PS9...              -200-   \n",
       "timothy.vogel@verizonwireless.com_Scheduled_PS9...  SR-Signaling-404-   \n",
       "\n",
       "                                                            105          106  \\\n",
       "pcap                                                                           \n",
       "timothy.vogel@verizonwireless.com_Scheduled_PS9...            *            *   \n",
       "timothy.vogel@verizonwireless.com_Scheduled_PS9...  -200-S-CSCF        -200-   \n",
       "timothy.vogel@verizonwireless.com_Scheduled_PS9...            *            *   \n",
       "timothy.vogel@verizonwireless.com_Scheduled_PS9...        -200-  -200-S-CSCF   \n",
       "\n",
       "                                                                 107  \\\n",
       "pcap                                                                   \n",
       "timothy.vogel@verizonwireless.com_Scheduled_PS9...                 *   \n",
       "timothy.vogel@verizonwireless.com_Scheduled_PS9...  S-CSCF-REGISTER-   \n",
       "timothy.vogel@verizonwireless.com_Scheduled_PS9...                 *   \n",
       "timothy.vogel@verizonwireless.com_Scheduled_PS9...             -200-   \n",
       "\n",
       "                                                            108    109  \n",
       "pcap                                                                    \n",
       "timothy.vogel@verizonwireless.com_Scheduled_PS9...            *      *  \n",
       "timothy.vogel@verizonwireless.com_Scheduled_PS9...  -200-S-CSCF  -200-  \n",
       "timothy.vogel@verizonwireless.com_Scheduled_PS9...            *      *  \n",
       "timothy.vogel@verizonwireless.com_Scheduled_PS9...            *      *  \n",
       "\n",
       "[4 rows x 109 columns]"
      ]
     },
     "execution_count": 14,
     "metadata": {},
     "output_type": "execute_result"
    }
   ],
   "source": [
    "df_out_final"
   ]
  },
  {
   "cell_type": "code",
   "execution_count": 15,
   "metadata": {
    "pycharm": {
     "name": "#%%\n"
    }
   },
   "outputs": [],
   "source": [
    "df_out_final.to_csv(os.path.join(output_folder, output_csv_filename))\n"
   ]
  },
  {
   "cell_type": "code",
   "execution_count": null,
   "outputs": [],
   "source": [],
   "metadata": {
    "collapsed": false,
    "pycharm": {
     "name": "#%%\n"
    }
   }
  },
  {
   "cell_type": "code",
   "execution_count": null,
   "metadata": {
    "pycharm": {
     "name": "#%%\n"
    }
   },
   "outputs": [],
   "source": []
  },
  {
   "cell_type": "code",
   "execution_count": null,
   "metadata": {
    "pycharm": {
     "name": "#%%\n"
    }
   },
   "outputs": [],
   "source": []
  },
  {
   "cell_type": "code",
   "execution_count": null,
   "metadata": {
    "pycharm": {
     "name": "#%%\n"
    }
   },
   "outputs": [],
   "source": []
  },
  {
   "cell_type": "code",
   "execution_count": null,
   "metadata": {
    "pycharm": {
     "name": "#%%\n"
    }
   },
   "outputs": [],
   "source": []
  },
  {
   "cell_type": "code",
   "execution_count": null,
   "metadata": {
    "pycharm": {
     "name": "#%%\n"
    }
   },
   "outputs": [],
   "source": []
  },
  {
   "cell_type": "code",
   "execution_count": null,
   "metadata": {},
   "outputs": [],
   "source": []
  }
 ],
 "metadata": {
  "kernelspec": {
   "display_name": "venv",
   "language": "python",
   "name": "venv"
  },
  "language_info": {
   "codemirror_mode": {
    "name": "ipython",
    "version": 3
   },
   "file_extension": ".py",
   "mimetype": "text/x-python",
   "name": "python",
   "nbconvert_exporter": "python",
   "pygments_lexer": "ipython3",
   "version": "3.8.5"
  }
 },
 "nbformat": 4,
 "nbformat_minor": 2
}